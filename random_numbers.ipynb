{
 "cells": [
  {
   "cell_type": "code",
   "execution_count": 1,
   "id": "5ff8316f",
   "metadata": {},
   "outputs": [],
   "source": [
    "# Import the random module.\n",
    "import random"
   ]
  },
  {
   "cell_type": "code",
   "execution_count": 2,
   "id": "7d2beb41",
   "metadata": {},
   "outputs": [
    {
     "data": {
      "text/plain": [
       "-13"
      ]
     },
     "execution_count": 2,
     "metadata": {},
     "output_type": "execute_result"
    }
   ],
   "source": [
    "random.randint(-90, 90)"
   ]
  },
  {
   "cell_type": "code",
   "execution_count": 3,
   "id": "8642ddb0",
   "metadata": {},
   "outputs": [
    {
     "data": {
      "text/plain": [
       "0.3522643632781708"
      ]
     },
     "execution_count": 3,
     "metadata": {},
     "output_type": "execute_result"
    }
   ],
   "source": [
    "random.random()"
   ]
  },
  {
   "cell_type": "code",
   "execution_count": 5,
   "id": "6168aa0f",
   "metadata": {},
   "outputs": [
    {
     "data": {
      "text/plain": [
       "84.7900663228685"
      ]
     },
     "execution_count": 5,
     "metadata": {},
     "output_type": "execute_result"
    }
   ],
   "source": [
    "random_number = random.randint(-90,89)+random.random()\n",
    "random_number"
   ]
  },
  {
   "cell_type": "code",
   "execution_count": 10,
   "id": "eb01c9d9",
   "metadata": {},
   "outputs": [
    {
     "data": {
      "text/plain": [
       "-28.98099802157097"
      ]
     },
     "execution_count": 10,
     "metadata": {},
     "output_type": "execute_result"
    }
   ],
   "source": [
    "random_number_1 = random.uniform(-90,90)\n",
    "random_number_1"
   ]
  },
  {
   "cell_type": "code",
   "execution_count": 7,
   "id": "19da68ff",
   "metadata": {},
   "outputs": [
    {
     "data": {
      "text/plain": [
       "[71.7834122568793,\n",
       " 31.595676486063997,\n",
       " -41.736146957671,\n",
       " -1.4723879193542242,\n",
       " -52.76552685704894,\n",
       " 43.20189294175797,\n",
       " 89.49864322202386,\n",
       " -11.162834431956243,\n",
       " 77.37411674391029,\n",
       " 25.490948770013613]"
      ]
     },
     "execution_count": 7,
     "metadata": {},
     "output_type": "execute_result"
    }
   ],
   "source": [
    "x = 1\n",
    "latitudes = []\n",
    "while x < 11:\n",
    "    random_lat = random.randint(-90, 89) + random.random()\n",
    "    latitudes.append(random_lat)\n",
    "    x += 1\n",
    "latitudes"
   ]
  },
  {
   "cell_type": "code",
   "execution_count": 11,
   "id": "c49938b2",
   "metadata": {},
   "outputs": [],
   "source": [
    "# Import the NumPy module.\n",
    "import numpy as np"
   ]
  },
  {
   "cell_type": "code",
   "execution_count": 12,
   "id": "d470579d",
   "metadata": {},
   "outputs": [
    {
     "data": {
      "text/plain": [
       "-56.97624094968732"
      ]
     },
     "execution_count": 12,
     "metadata": {},
     "output_type": "execute_result"
    }
   ],
   "source": [
    "np.random.uniform(-90.000,90.000)"
   ]
  },
  {
   "cell_type": "code",
   "execution_count": 13,
   "id": "690368ac",
   "metadata": {},
   "outputs": [
    {
     "data": {
      "text/plain": [
       "72.13067382773647"
      ]
     },
     "execution_count": 13,
     "metadata": {},
     "output_type": "execute_result"
    }
   ],
   "source": [
    "np.random.uniform(low=-90, high =90)"
   ]
  },
  {
   "cell_type": "code",
   "execution_count": 14,
   "id": "9dba7785",
   "metadata": {},
   "outputs": [
    {
     "data": {
      "text/plain": [
       "array([-44.79893081, -75.50903282,  -0.21945957,  -1.13766644,\n",
       "        52.50083563, -11.44652257, -35.0028425 , -29.71894415,\n",
       "        67.02402799,  59.77422194, -35.88623581,  52.06696583,\n",
       "        32.99629413,  66.06518895,  42.95089026,  50.36940085,\n",
       "       -70.28369046, -42.53230842,  -3.35994201, -49.69662285,\n",
       "        29.22200186,  -5.22477761, -69.42723336,  42.60599966,\n",
       "        48.49693088,  79.34469835,  29.32900144, -76.86180049,\n",
       "       -16.8076603 ,  86.07798748, -83.95084439,  79.04176563,\n",
       "       -41.89338432,  -0.15667865,  56.92539388, -70.64828866,\n",
       "       -45.08247047, -36.93947023,  55.74855208, -48.58684457,\n",
       "       -42.07455802, -46.76022852, -43.65575892,  64.19038035,\n",
       "        56.9907645 ,  20.74770373, -12.58666633, -45.42323062,\n",
       "        -9.50031169, -67.95732315])"
      ]
     },
     "execution_count": 14,
     "metadata": {},
     "output_type": "execute_result"
    }
   ],
   "source": [
    "np.random.uniform(-90.000,90.000,size=50)"
   ]
  },
  {
   "cell_type": "code",
   "execution_count": 15,
   "id": "1c3e511c",
   "metadata": {},
   "outputs": [],
   "source": [
    "# Import timeit.\n",
    "import timeit"
   ]
  },
  {
   "cell_type": "code",
   "execution_count": 16,
   "id": "5094bac9",
   "metadata": {},
   "outputs": [
    {
     "name": "stdout",
     "output_type": "stream",
     "text": [
      "12.1 µs ± 86.6 ns per loop (mean ± std. dev. of 7 runs, 100000 loops each)\n"
     ]
    }
   ],
   "source": [
    "%timeit np.random.uniform(-90.000, 90.000, size=1500)"
   ]
  },
  {
   "cell_type": "code",
   "execution_count": 17,
   "id": "cb411a99",
   "metadata": {},
   "outputs": [
    {
     "name": "stdout",
     "output_type": "stream",
     "text": [
      "1.5 ms ± 25.9 µs per loop (mean ± std. dev. of 7 runs, 1000 loops each)\n"
     ]
    }
   ],
   "source": [
    "def latitudes(size):\n",
    "    latitudes = []\n",
    "    x = 0\n",
    "    while x < (size):\n",
    "        random_lat = random.randint(-90, 90) + random.random()\n",
    "        latitudes.append(random_lat)\n",
    "        x += 1\n",
    "    return latitudes\n",
    "# Call the function with 1500.\n",
    "%timeit latitudes(1500)"
   ]
  },
  {
   "cell_type": "code",
   "execution_count": null,
   "id": "d3bc9eb5",
   "metadata": {},
   "outputs": [],
   "source": []
  }
 ],
 "metadata": {
  "kernelspec": {
   "display_name": "PythonData",
   "language": "python",
   "name": "pythondata"
  },
  "language_info": {
   "codemirror_mode": {
    "name": "ipython",
    "version": 3
   },
   "file_extension": ".py",
   "mimetype": "text/x-python",
   "name": "python",
   "nbconvert_exporter": "python",
   "pygments_lexer": "ipython3",
   "version": "3.7.11"
  }
 },
 "nbformat": 4,
 "nbformat_minor": 5
}
